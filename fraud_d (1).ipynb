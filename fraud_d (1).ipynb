{
 "cells": [
  {
   "cell_type": "code",
   "execution_count": 32,
   "id": "1a16ab02-3dc9-4778-a984-ffac96549615",
   "metadata": {},
   "outputs": [],
   "source": [
    "# Cell 2 - imports & basic settings\n",
    "import os\n",
    "import numpy as np\n",
    "import pandas as pd\n",
    "import matplotlib.pyplot as plt\n",
    "\n",
    "from sklearn.model_selection import train_test_split, StratifiedKFold, RandomizedSearchCV\n",
    "from sklearn.pipeline import Pipeline\n",
    "from sklearn.compose import ColumnTransformer\n",
    "from sklearn.impute import SimpleImputer\n",
    "from sklearn.preprocessing import StandardScaler, OneHotEncoder\n",
    "from sklearn.linear_model import LogisticRegression\n",
    "from sklearn.ensemble import RandomForestClassifier\n",
    "from xgboost import XGBClassifier\n",
    "from sklearn.metrics import precision_recall_curve, average_precision_score, PrecisionRecallDisplay, classification_report\n",
    "import joblib\n",
    "import warnings\n",
    "warnings.filterwarnings(\"ignore\")\n",
    "np.random.seed(42)\n"
   ]
  },
  {
   "cell_type": "code",
   "execution_count": 33,
   "id": "40dc7a13-2cb6-476a-8c1b-a3a6ace602b0",
   "metadata": {},
   "outputs": [
    {
     "name": "stdout",
     "output_type": "stream",
     "text": [
      "Current working directory: C:\\Users\\User\\fraud\n"
     ]
    }
   ],
   "source": [
    "import os\n",
    "print(\"Current working directory:\", os.getcwd())\n"
   ]
  },
  {
   "cell_type": "code",
   "execution_count": 34,
   "id": "11641476-966f-4307-a962-33f5fbf290f2",
   "metadata": {},
   "outputs": [
    {
     "name": "stdout",
     "output_type": "stream",
     "text": [
      "Files in this folder: ['.ipynb_checkpoints', 'fraud detection.ipynb', 'LICENSE', 'models', 'PS_20174392719_1491204439457_log.csv', 'README.md', 'Untitled.ipynb', 'Untitled1.ipynb']\n"
     ]
    }
   ],
   "source": [
    "print(\"Files in this folder:\", os.listdir())\n"
   ]
  },
  {
   "cell_type": "code",
   "execution_count": 35,
   "id": "d6b2201d-33ff-4b58-b2df-8e0402f4a7ff",
   "metadata": {},
   "outputs": [
    {
     "name": "stdout",
     "output_type": "stream",
     "text": [
      "✅ Dataset loaded: C:\\Users\\User\\Desktop\\fraud_detection\\data_3000.csv\n",
      "Shape: (3000, 11)\n"
     ]
    },
    {
     "data": {
      "text/html": [
       "<div>\n",
       "<style scoped>\n",
       "    .dataframe tbody tr th:only-of-type {\n",
       "        vertical-align: middle;\n",
       "    }\n",
       "\n",
       "    .dataframe tbody tr th {\n",
       "        vertical-align: top;\n",
       "    }\n",
       "\n",
       "    .dataframe thead th {\n",
       "        text-align: right;\n",
       "    }\n",
       "</style>\n",
       "<table border=\"1\" class=\"dataframe\">\n",
       "  <thead>\n",
       "    <tr style=\"text-align: right;\">\n",
       "      <th></th>\n",
       "      <th>step</th>\n",
       "      <th>type</th>\n",
       "      <th>amount</th>\n",
       "      <th>nameOrig</th>\n",
       "      <th>oldbalanceOrg</th>\n",
       "      <th>newbalanceOrig</th>\n",
       "      <th>nameDest</th>\n",
       "      <th>oldbalanceDest</th>\n",
       "      <th>newbalanceDest</th>\n",
       "      <th>isFraud</th>\n",
       "      <th>isFlaggedFraud</th>\n",
       "    </tr>\n",
       "  </thead>\n",
       "  <tbody>\n",
       "    <tr>\n",
       "      <th>0</th>\n",
       "      <td>278</td>\n",
       "      <td>CASH_IN</td>\n",
       "      <td>330218.42</td>\n",
       "      <td>C632336343</td>\n",
       "      <td>20866.00</td>\n",
       "      <td>351084.42</td>\n",
       "      <td>C834976624</td>\n",
       "      <td>452419.57</td>\n",
       "      <td>122201.15</td>\n",
       "      <td>0</td>\n",
       "      <td>0</td>\n",
       "    </tr>\n",
       "    <tr>\n",
       "      <th>1</th>\n",
       "      <td>15</td>\n",
       "      <td>PAYMENT</td>\n",
       "      <td>11647.08</td>\n",
       "      <td>C1264712553</td>\n",
       "      <td>30370.00</td>\n",
       "      <td>18722.92</td>\n",
       "      <td>M215391829</td>\n",
       "      <td>0.00</td>\n",
       "      <td>0.00</td>\n",
       "      <td>0</td>\n",
       "      <td>0</td>\n",
       "    </tr>\n",
       "    <tr>\n",
       "      <th>2</th>\n",
       "      <td>10</td>\n",
       "      <td>CASH_IN</td>\n",
       "      <td>152264.21</td>\n",
       "      <td>C1746846248</td>\n",
       "      <td>106589.00</td>\n",
       "      <td>258853.21</td>\n",
       "      <td>C1607284477</td>\n",
       "      <td>201303.01</td>\n",
       "      <td>49038.80</td>\n",
       "      <td>0</td>\n",
       "      <td>0</td>\n",
       "    </tr>\n",
       "    <tr>\n",
       "      <th>3</th>\n",
       "      <td>403</td>\n",
       "      <td>TRANSFER</td>\n",
       "      <td>1551760.63</td>\n",
       "      <td>C333676753</td>\n",
       "      <td>0.00</td>\n",
       "      <td>0.00</td>\n",
       "      <td>C1564353608</td>\n",
       "      <td>3198359.45</td>\n",
       "      <td>4750120.08</td>\n",
       "      <td>0</td>\n",
       "      <td>0</td>\n",
       "    </tr>\n",
       "    <tr>\n",
       "      <th>4</th>\n",
       "      <td>206</td>\n",
       "      <td>CASH_IN</td>\n",
       "      <td>78172.30</td>\n",
       "      <td>C813403091</td>\n",
       "      <td>2921331.58</td>\n",
       "      <td>2999503.88</td>\n",
       "      <td>C1091768874</td>\n",
       "      <td>415821.90</td>\n",
       "      <td>337649.60</td>\n",
       "      <td>0</td>\n",
       "      <td>0</td>\n",
       "    </tr>\n",
       "  </tbody>\n",
       "</table>\n",
       "</div>"
      ],
      "text/plain": [
       "   step      type      amount     nameOrig  oldbalanceOrg  newbalanceOrig  \\\n",
       "0   278   CASH_IN   330218.42   C632336343       20866.00       351084.42   \n",
       "1    15   PAYMENT    11647.08  C1264712553       30370.00        18722.92   \n",
       "2    10   CASH_IN   152264.21  C1746846248      106589.00       258853.21   \n",
       "3   403  TRANSFER  1551760.63   C333676753           0.00            0.00   \n",
       "4   206   CASH_IN    78172.30   C813403091     2921331.58      2999503.88   \n",
       "\n",
       "      nameDest  oldbalanceDest  newbalanceDest  isFraud  isFlaggedFraud  \n",
       "0   C834976624       452419.57       122201.15        0               0  \n",
       "1   M215391829            0.00            0.00        0               0  \n",
       "2  C1607284477       201303.01        49038.80        0               0  \n",
       "3  C1564353608      3198359.45      4750120.08        0               0  \n",
       "4  C1091768874       415821.90       337649.60        0               0  "
      ]
     },
     "metadata": {},
     "output_type": "display_data"
    }
   ],
   "source": [
    "DATA_PATH = r\"C:\\Users\\User\\Desktop\\fraud_detection\\data_3000.csv\"\n",
    "\n",
    "import os\n",
    "import pandas as pd\n",
    "\n",
    "if os.path.exists(DATA_PATH):\n",
    "    df = pd.read_csv(DATA_PATH)\n",
    "    print(\"✅ Dataset loaded:\", DATA_PATH)\n",
    "    print(\"Shape:\", df.shape)\n",
    "    display(df.head())\n",
    "else:\n",
    "    raise FileNotFoundError(f\"Dataset not found at {DATA_PATH}\")\n"
   ]
  },
  {
   "cell_type": "code",
   "execution_count": 36,
   "id": "747466a0-f768-441a-a9c0-669d781c63b3",
   "metadata": {},
   "outputs": [
    {
     "name": "stdout",
     "output_type": "stream",
     "text": [
      "First 3000 rows preview:\n",
      "   step      type    amount     nameOrig  oldbalanceOrg  newbalanceOrig  \\\n",
      "0     1   PAYMENT   9839.64  C1231006815       170136.0       160296.36   \n",
      "1     1   PAYMENT   1864.28  C1666544295        21249.0        19384.72   \n",
      "2     1  TRANSFER    181.00  C1305486145          181.0            0.00   \n",
      "3     1  CASH_OUT    181.00   C840083671          181.0            0.00   \n",
      "4     1   PAYMENT  11668.14  C2048537720        41554.0        29885.86   \n",
      "\n",
      "      nameDest  oldbalanceDest  newbalanceDest  isFraud  isFlaggedFraud  \n",
      "0  M1979787155             0.0             0.0        0               0  \n",
      "1  M2044282225             0.0             0.0        0               0  \n",
      "2   C553264065             0.0             0.0        1               0  \n",
      "3    C38997010         21182.0             0.0        1               0  \n",
      "4  M1230701703             0.0             0.0        0               0  \n",
      "\n",
      "Data types and missing values in first chunk:\n",
      "<class 'pandas.core.frame.DataFrame'>\n",
      "RangeIndex: 3000 entries, 0 to 2999\n",
      "Data columns (total 11 columns):\n",
      " #   Column          Non-Null Count  Dtype  \n",
      "---  ------          --------------  -----  \n",
      " 0   step            3000 non-null   int64  \n",
      " 1   type            3000 non-null   object \n",
      " 2   amount          3000 non-null   float64\n",
      " 3   nameOrig        3000 non-null   object \n",
      " 4   oldbalanceOrg   3000 non-null   float64\n",
      " 5   newbalanceOrig  3000 non-null   float64\n",
      " 6   nameDest        3000 non-null   object \n",
      " 7   oldbalanceDest  3000 non-null   float64\n",
      " 8   newbalanceDest  3000 non-null   float64\n",
      " 9   isFraud         3000 non-null   int64  \n",
      " 10  isFlaggedFraud  3000 non-null   int64  \n",
      "dtypes: float64(5), int64(3), object(3)\n",
      "memory usage: 257.9+ KB\n",
      "None\n",
      "step              0\n",
      "type              0\n",
      "amount            0\n",
      "nameOrig          0\n",
      "oldbalanceOrg     0\n",
      "newbalanceOrig    0\n",
      "nameDest          0\n",
      "oldbalanceDest    0\n",
      "newbalanceDest    0\n",
      "isFraud           0\n",
      "isFlaggedFraud    0\n",
      "dtype: int64\n"
     ]
    }
   ],
   "source": [
    "import pandas as pd\n",
    "\n",
    "# Path to the dataset CSV file (update as per your local path)\n",
    "file_path = 'PS_20174392719_1491204439457_log.csv'\n",
    "\n",
    "chunk_size = 3000\n",
    "\n",
    "# Create an iterator to read data in chunks\n",
    "data_iter = pd.read_csv(file_path, chunksize=chunk_size)\n",
    "\n",
    "# Read first chunk and show info\n",
    "first_chunk = next(data_iter)\n",
    "print(\"First 3000 rows preview:\")\n",
    "print(first_chunk.head())\n",
    "\n",
    "print(\"\\nData types and missing values in first chunk:\")\n",
    "print(first_chunk.info())\n",
    "print(first_chunk.isnull().sum())\n"
   ]
  },
  {
   "cell_type": "code",
   "execution_count": 37,
   "id": "785f868f-0b4a-4137-acc8-ea7f2e255dd3",
   "metadata": {},
   "outputs": [
    {
     "name": "stdout",
     "output_type": "stream",
     "text": [
      "Numerical columns: ['step', 'amount', 'oldbalanceOrg', 'newbalanceOrig', 'oldbalanceDest', 'newbalanceDest', 'log_amount', 'hour', 'same_party']\n",
      "Categorical columns: ['type']\n"
     ]
    }
   ],
   "source": [
    "# Cell 6 - separate numeric and categorical columns (exclude target)\n",
    "# Start from 'data' created above\n",
    "\n",
    "# Remove obvious identifiers that shouldn't be used as features\n",
    "exclude_cols = [target_col, 'nameOrig', 'nameDest', 'orig', 'dest', 'isFlaggedFraud']  # extend if needed\n",
    "cols = [c for c in data.columns if c not in exclude_cols]\n",
    "\n",
    "# Numeric columns\n",
    "numerical_cols = [c for c in cols if np.issubdtype(data[c].dtype, np.number)]\n",
    "# Categorical columns (object or category)\n",
    "categorical_cols = [c for c in cols if data[c].dtype == 'object' or str(data[c].dtype).startswith('category')]\n",
    "\n",
    "print(\"Numerical columns:\", numerical_cols)\n",
    "print(\"Categorical columns:\", categorical_cols)\n"
   ]
  },
  {
   "cell_type": "code",
   "execution_count": 38,
   "id": "fc7a6d80-59eb-414e-ab04-455239af538d",
   "metadata": {},
   "outputs": [
    {
     "name": "stdout",
     "output_type": "stream",
     "text": [
      "Train: (2400, 10) Test: (600, 10)\n",
      "Train positive ratio: 0.0025 Test positive ratio: 0.0016666666666666668\n"
     ]
    }
   ],
   "source": [
    "# Cell 7 - split\n",
    "X = data[numerical_cols + categorical_cols]\n",
    "y = data[target_col]\n",
    "\n",
    "X_train, X_test, y_train, y_test = train_test_split(\n",
    "    X, y, test_size=0.2, random_state=42, stratify=y\n",
    ")\n",
    "\n",
    "print(\"Train:\", X_train.shape, \"Test:\", X_test.shape)\n",
    "print(\"Train positive ratio:\", y_train.mean(), \"Test positive ratio:\", y_test.mean())\n"
   ]
  },
  {
   "cell_type": "code",
   "execution_count": 39,
   "id": "87afd3ef-55d9-4d95-bfde-4806badb549c",
   "metadata": {},
   "outputs": [],
   "source": [
    "from sklearn.pipeline import Pipeline\n",
    "from sklearn.impute import SimpleImputer\n",
    "from sklearn.preprocessing import StandardScaler, OneHotEncoder\n",
    "from sklearn.compose import ColumnTransformer\n",
    "\n",
    "numeric_transformer = Pipeline(steps=[\n",
    "    ('imputer', SimpleImputer(strategy='median')),\n",
    "    ('scaler', StandardScaler())\n",
    "])\n",
    "\n",
    "categorical_transformer = Pipeline(steps=[\n",
    "    ('imputer', SimpleImputer(strategy='constant', fill_value='missing')),\n",
    "    ('onehot', OneHotEncoder(handle_unknown='ignore', sparse_output=False))\n",
    "])\n",
    "\n",
    "preprocessor = ColumnTransformer(transformers=[\n",
    "    ('num', numeric_transformer, numerical_cols),\n",
    "    ('cat', categorical_transformer, categorical_cols)\n",
    "], remainder='drop')\n"
   ]
  },
  {
   "cell_type": "code",
   "execution_count": 40,
   "id": "f441a8cb-4026-4624-8799-73c988dae807",
   "metadata": {},
   "outputs": [],
   "source": [
    "# Cell 9 - helper function to run RandomizedSearchCV\n",
    "def run_search(estimator, param_distributions, X_tr, y_tr, n_iter=20, cv=3, random_state=42):\n",
    "    pipe = Pipeline(steps=[('preprocessor', preprocessor), ('clf', estimator)])\n",
    "    skf = StratifiedKFold(n_splits=cv, shuffle=True, random_state=random_state)\n",
    "    search = RandomizedSearchCV(\n",
    "        pipe, param_distributions, n_iter=n_iter,\n",
    "        scoring='average_precision', cv=skf, n_jobs=-1, verbose=1, random_state=random_state\n",
    "    )\n",
    "    search.fit(X_tr, y_tr)\n",
    "    return search\n"
   ]
  },
  {
   "cell_type": "code",
   "execution_count": 41,
   "id": "ba1dc399-1266-4ff9-aa1a-a6586852e104",
   "metadata": {},
   "outputs": [],
   "source": [
    "# Cell 10 - model definitions & parameter distributions\n",
    "# Logistic Regression\n",
    "lr = LogisticRegression(solver='saga', max_iter=5000)\n",
    "lr_params = {\n",
    "    'clf__C': np.logspace(-4, 4, 20),\n",
    "    'clf__penalty': ['l1', 'l2'],\n",
    "    'clf__class_weight': [None, 'balanced']\n",
    "}\n",
    "\n",
    "# Random Forest\n",
    "rf = RandomForestClassifier(random_state=42, n_jobs=-1)\n",
    "rf_params = {\n",
    "    'clf__n_estimators': [100, 300],\n",
    "    'clf__max_depth': [None, 10, 30],\n",
    "    'clf__min_samples_split': [2, 5],\n",
    "    'clf__class_weight': [None, 'balanced']\n",
    "}\n",
    "\n",
    "# XGBoost\n",
    "xgb = XGBClassifier(use_label_encoder=False, eval_metric='logloss', random_state=42)\n",
    "# estimate scale_pos_weight to help with class imbalance\n",
    "pos = y_train.sum()\n",
    "neg = len(y_train) - pos\n",
    "scale_pos_weight = (neg / pos) if pos > 0 else 1.0\n",
    "\n",
    "xgb_params = {\n",
    "    'clf__n_estimators': [100, 300],\n",
    "    'clf__max_depth': [3, 6],\n",
    "    'clf__learning_rate': [0.01, 0.1],\n",
    "    'clf__scale_pos_weight': [1, scale_pos_weight]\n",
    "}\n"
   ]
  },
  {
   "cell_type": "code",
   "execution_count": 42,
   "id": "dd668554-6703-44af-ad41-63fc2aa6bf1d",
   "metadata": {},
   "outputs": [
    {
     "name": "stdout",
     "output_type": "stream",
     "text": [
      "Running Logistic Regression search...\n",
      "Fitting 3 folds for each of 10 candidates, totalling 30 fits\n",
      "\n",
      "Running Random Forest search...\n",
      "Fitting 3 folds for each of 10 candidates, totalling 30 fits\n",
      "\n",
      "Running XGBoost search...\n",
      "Fitting 3 folds for each of 8 candidates, totalling 24 fits\n"
     ]
    }
   ],
   "source": [
    "# Cell 11 - run randomized searches (set n_iter small for quick dev; increase for final)\n",
    "results = {}\n",
    "\n",
    "print(\"Running Logistic Regression search...\")\n",
    "results['lr'] = run_search(lr, lr_params, X_train, y_train, n_iter=10, cv=3)\n",
    "\n",
    "print(\"\\nRunning Random Forest search...\")\n",
    "results['rf'] = run_search(rf, rf_params, X_train, y_train, n_iter=10, cv=3)\n",
    "\n",
    "print(\"\\nRunning XGBoost search...\")\n",
    "results['xgb'] = run_search(xgb, xgb_params, X_train, y_train, n_iter=8, cv=3)\n"
   ]
  },
  {
   "cell_type": "code",
   "execution_count": 43,
   "id": "6b800573-1d90-4972-9b33-6b9645887bb6",
   "metadata": {},
   "outputs": [
    {
     "data": {
      "text/plain": [
       "<Figure size 800x600 with 0 Axes>"
      ]
     },
     "metadata": {},
     "output_type": "display_data"
    },
    {
     "data": {
      "image/png": "[encoded data removed]",
      "text/plain": [
       "<Figure size 640x480 with 1 Axes>"
      ]
     },
     "metadata": {},
     "output_type": "display_data"
    },
    {
     "data": {
      "image/png": "[encoded data removed]",
      "text/plain": [
       "<Figure size 640x480 with 1 Axes>"
      ]
     },
     "metadata": {},
     "output_type": "display_data"
    },
    {
     "data": {
      "image/png": "[encoded data removed]",
      "text/plain": [
       "<Figure size 640x480 with 1 Axes>"
      ]
     },
     "metadata": {},
     "output_type": "display_data"
    },
    {
     "name": "stdout",
     "output_type": "stream",
     "text": [
      "AP scores: {'lr': np.float64(0.16666666666666666), 'rf': np.float64(1.0), 'xgb': np.float64(1.0)}\n"
     ]
    }
   ],
   "source": [
    "# Cell 12 - precision-recall curves & AP scores\n",
    "plt.figure(figsize=(8, 6))\n",
    "\n",
    "ap_scores = {}\n",
    "for name, res in results.items():\n",
    "    best = res.best_estimator_\n",
    "    # get predicted score for positive class\n",
    "    try:\n",
    "        y_scores = best.predict_proba(X_test)[:, 1]\n",
    "    except Exception:\n",
    "        y_scores = best.decision_function(X_test)\n",
    "    ap = average_precision_score(y_test, y_scores)\n",
    "    ap_scores[name] = ap\n",
    "    precision, recall, _ = precision_recall_curve(y_test, y_scores)\n",
    "    disp = PrecisionRecallDisplay(precision=precision, recall=recall)\n",
    "    disp.plot()\n",
    "    plt.plot([], [], label=f\"{name} AP={ap:.4f}\")\n",
    "\n",
    "plt.title(\"Precision-Recall curves\")\n",
    "plt.legend()\n",
    "plt.show()\n",
    "\n",
    "print(\"AP scores:\", ap_scores)\n"
   ]
  },
  {
   "cell_type": "code",
   "execution_count": 44,
   "id": "0982c738-075f-43df-b6a5-44f8f8d834c6",
   "metadata": {},
   "outputs": [
    {
     "name": "stdout",
     "output_type": "stream",
     "text": [
      "Best model by Average Precision (AP): rf with AP= 1.0\n",
      "\n",
      "Classification report (threshold default):\n",
      "              precision    recall  f1-score   support\n",
      "\n",
      "           0       1.00      1.00      1.00       599\n",
      "           1       0.00      0.00      0.00         1\n",
      "\n",
      "    accuracy                           1.00       600\n",
      "   macro avg       0.50      0.50      0.50       600\n",
      "weighted avg       1.00      1.00      1.00       600\n",
      "\n"
     ]
    }
   ],
   "source": [
    "# Cell 13 - pick best model by AP and show a classification report (default threshold 0.5)\n",
    "best_key = max(ap_scores, key=ap_scores.get)\n",
    "best_search = results[best_key]\n",
    "best_pipeline = best_search.best_estimator_\n",
    "\n",
    "print(\"Best model by Average Precision (AP):\", best_key, \"with AP=\", ap_scores[best_key])\n",
    "\n",
    "# Predict with the pipeline\n",
    "y_pred = best_pipeline.predict(X_test)\n",
    "print(\"\\nClassification report (threshold default):\")\n",
    "print(classification_report(y_test, y_pred))\n"
   ]
  },
  {
   "cell_type": "code",
   "execution_count": 45,
   "id": "a5c2e9a3-5b0f-4c96-b438-e9955e86de0b",
   "metadata": {},
   "outputs": [
    {
     "name": "stdout",
     "output_type": "stream",
     "text": [
      "Saved model pipeline to: ./models/best_fraud_model_rf.joblib\n"
     ]
    }
   ],
   "source": [
    "# Cell 14 - save model\n",
    "os.makedirs('./models', exist_ok=True)\n",
    "model_path = f'./models/best_fraud_model_{best_key}.joblib'\n",
    "joblib.dump(best_pipeline, model_path)\n",
    "print(\"Saved model pipeline to:\", model_path)\n"
   ]
  },
  {
   "cell_type": "code",
   "execution_count": null,
   "id": "45af88fa-6e4d-47cc-882f-630f56254059",
   "metadata": {},
   "outputs": [],
   "source": []
  }
 ],
 "metadata": {
  "kernelspec": {
   "display_name": "Python 3 (ipykernel)",
   "language": "python",
   "name": "python3"
  },
  "language_info": {
   "codemirror_mode": {
    "name": "ipython",
    "version": 3
   },
   "file_extension": ".py",
   "mimetype": "text/x-python",
   "name": "python",
   "nbconvert_exporter": "python",
   "pygments_lexer": "ipython3",
   "version": "3.13.5"
  }
 },
 "nbformat": 4,
 "nbformat_minor": 5
}
